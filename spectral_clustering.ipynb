{
 "cells": [
  {
   "cell_type": "code",
   "execution_count": 1,
   "metadata": {},
   "outputs": [],
   "source": [
    "import tushare as ts\n",
    "import tkinter as tk\n",
    "import datetime\n",
    "import time\n",
    "from dateutil.relativedelta import relativedelta\n",
    "from pandastable import Table\n",
    "from tkintertable import TableCanvas, TableModel\n",
    "from tkinter import ttk\n",
    "import pandas as pd\n",
    "import numpy as np\n",
    "import matplotlib.pyplot as plt\n",
    "from sklearn.cluster import SpectralClustering\n",
    "from scipy.spatial.distance import cdist\n",
    "pro = ts.pro_api('f198ddf6f6c8918413793b567bed6269e931f433abd746b26a3c2668')"
   ]
  },
  {
   "cell_type": "code",
   "execution_count": 2,
   "metadata": {},
   "outputs": [],
   "source": [
    "##思路就是找到每只股票一段时间的涨跌额，有正有负，然后合并其中连续的相同符号的值，举例子就是这样：\n",
    "##                 股票1=[1,1,1,-1,-1,-1]\n",
    "##                 合并之后=[3,-3] (因为我觉得既然只是趋势的话连续的涨跌可以直接合并成一个数值)\n",
    "##然后计算两两股票间的双向Hausdorff距离，得到距离矩阵，将距离矩阵放到谱聚类里面得到结果就行了"
   ]
  },
  {
   "cell_type": "code",
   "execution_count": 4,
   "metadata": {},
   "outputs": [],
   "source": [
    "##over20%.txt 是我初步选出的股票名单，选用的是roic（投资回报率）作为筛选标准，找出一些大于20%的股票\n",
    "stocklist=[]\n",
    "with open('over20%.txt', 'r') as f:\n",
    "    lines = f.readlines() # 整行读取数据\n",
    "    for i in lines:\n",
    "        if i.split()[0][-2:]!='BJ':\n",
    "            stocklist.append(i.split()[0])\n",
    "##将txt中的股票读入list中"
   ]
  },
  {
   "cell_type": "code",
   "execution_count": 5,
   "metadata": {},
   "outputs": [],
   "source": [
    "def OneWayHausdorffDistance(ptSetA, ptSetB):\n",
    "      # 计算任意向量之间的距离，假设ptSetA有n个向量，ptSetB有m个向量\n",
    "      # 得到矩阵C（n行m列）Cij代表A中都第i个向量到B中第j向量都距离\n",
    "    dist= cdist(ptSetA, ptSetB, metric='euclidean')\n",
    "      # np.min(dist,axis=1):计算每一行的的最小值\n",
    "      # 即：固定点集A的值，求点集A中到集合B的最小值\n",
    "    return np.max(np.min(dist, axis=1))\n",
    "# 计算双向的Hausdorff距离=====>H(ptSetA,ptSetB)=max(h(ptSetA,ptSetB),h(ptSetB,ptSetA))\n",
    "# ptSetA：输入的第一个点集\n",
    "# ptSetB：输入的第二个点集\n",
    "# Hausdorff距离度量了两个点集间的最大不匹配程度\n",
    "def HausdorffDistance(ptSetA, ptSetB):\n",
    "  # 计算双向的Hausdorff距离距离\n",
    "    res = np.array([\n",
    "        OneWayHausdorffDistance(ptSetA, ptSetB),\n",
    "        OneWayHausdorffDistance(ptSetB, ptSetA)\n",
    "  ])\n",
    "    return np.max(res) \n",
    "#HausdorffDistance(B,C)\n",
    "def DistanceMat(data):\n",
    "    '''\n",
    "    功能：计算轨迹段的距离矩阵\n",
    "    输出：距离矩阵\n",
    "    '''\n",
    "    \n",
    "    \n",
    "    id_=list(data.keys())\n",
    "    dist=[]\n",
    "    for i in id_:\n",
    "        temp=[]\n",
    "        for j in id_:\n",
    "            temp.append(HausdorffDistance(data[i],data[j]))\n",
    "        dist.append(temp)\n",
    "    dismat=pd.DataFrame(dist,columns=id_,index=id_)\n",
    "    return dismat\n",
    "\n",
    "def integrate(li):\n",
    "    final=[]\n",
    "    temp=[]\n",
    "    temp.append(li[0])\n",
    "    for i in li[1:]:\n",
    "        if temp[0]*i>0:\n",
    "            temp.append(i)\n",
    "        else:\n",
    "            final.append(sum(temp))\n",
    "            temp=[]\n",
    "            temp.append(i)\n",
    "    final.append(sum(temp))\n",
    "    return final\n",
    "\n",
    "def integrate1(close,change):\n",
    "        final_close=[]\n",
    "        final_change=[]\n",
    "        temp=[]\n",
    "        temp.append(change[0])\n",
    "        for i in range(1,len(change)):\n",
    "            if temp[0]*change[i]>0:\n",
    "                temp.append(change[i])\n",
    "            else:\n",
    "                final_change.append(sum(temp))\n",
    "                final_close.append(close[i-1])\n",
    "                temp=[]\n",
    "                temp.append(change[i])\n",
    "        final_change.append(sum(temp))\n",
    "        final_close.append(close[i])\n",
    "        return final_close,final_change"
   ]
  },
  {
   "cell_type": "code",
   "execution_count": 47,
   "metadata": {},
   "outputs": [],
   "source": [
    "def baseontrend(k,input_type,n,target):##  k是时间段的数量，input_type是日/月/年，n是分成几类，target是查询人想查询的目标股票，格式为string\n",
    "    ##输出是包含target在内的list，该list中的所有股票被粗略的分为一类，这一输出应该可以用在下一步里\n",
    "    stock_list=stocklist\n",
    "    if target not in stock_list:\n",
    "        stock_list.append(target)\n",
    "    \n",
    "    ydm=datetime.datetime.now().strftime('%Y%m%d')# get the current date\n",
    "    \n",
    "    if input_type=='day':\n",
    "        start_date=(datetime.datetime.now()-datetime.timedelta(days=k)).strftime(\"%Y%m%d\")\n",
    "    elif input_type=='month':\n",
    "        start_date=(datetime.datetime.now()-relativedelta(months=k)).strftime(\"%Y%m%d\")\n",
    "    elif input_type=='year':\n",
    "        start_date=(datetime.datetime.now()-relativedelta(years=k)).strftime(\"%Y%m%d\")\n",
    "    else:\n",
    "        print('The input type is wrong!')\n",
    "        return\n",
    "    \n",
    "    X={}\n",
    "    #for i in stocklist:\n",
    "    #    temp=[]\n",
    "    #    df = pro.daily(ts_code=i,start_date=start_date, end_date=ydm, fields='ts_code,trade_date,change')\n",
    "    #    change=list(df['change'])\n",
    "    #    change=integrate(change)\n",
    "    #    idx=list(range(1,len(change)+1))\n",
    "    #    temp.append(idx)\n",
    "    #    temp.append(change)\n",
    "    #    temp=np.array(temp)\n",
    "    #    X[i]=pd.DataFrame(temp).T\n",
    "    for i in stock_list:\n",
    "        temp=[]\n",
    "        df = pro.daily(ts_code=i,start_date=start_date, end_date=ydm, fields='ts_code,trade_date,close,change')\n",
    "        close=list(df['close'])[::-1]\n",
    "        change=list(df['change'])[::-1]\n",
    "        close1,change1=integrate1(close,change)\n",
    "        \n",
    "        \n",
    "        idx=list(range(1,len(close1)+1))\n",
    "        temp.append(idx)\n",
    "        temp.append(close1)\n",
    "        temp=np.array(temp)\n",
    "        X[i]=pd.DataFrame(temp).T\n",
    "    \n",
    "    dismat=DistanceMat(X)\n",
    "    clustering = SpectralClustering(n_clusters=n,assign_labels=\"discretize\",random_state=5,affinity='precomputed').fit(dismat)\n",
    "    label=clustering.labels_\n",
    "    \n",
    "    clusters=[]\n",
    "    for i in range(n):\n",
    "        temp1=[]\n",
    "        for j in range(len(label)):\n",
    "            if label[j]==i:\n",
    "                temp1.append(stock_list[j])\n",
    "        clusters.append(temp1)\n",
    "    \n",
    "    cluster_dict={}\n",
    "    for i in range(n):\n",
    "        cluster_dict[i]=clusters[i]\n",
    "    \n",
    "    same=[]\n",
    "    for j in range(n):\n",
    "        if target in cluster_dict[j]:\n",
    "            same=cluster_dict[j]\n",
    "            break\n",
    "            \n",
    "    return same"
   ]
  },
  {
   "cell_type": "code",
   "execution_count": 48,
   "metadata": {},
   "outputs": [
    {
     "name": "stdout",
     "output_type": "stream",
     "text": [
      "13.731619834899902\n"
     ]
    }
   ],
   "source": [
    "start=time.time()\n",
    "same=baseontrend(2,'month',5,'002242.SZ')\n",
    "end=time.time()\n",
    "print(end-start)"
   ]
  },
  {
   "cell_type": "code",
   "execution_count": 49,
   "metadata": {},
   "outputs": [
    {
     "data": {
      "text/plain": [
       "58"
      ]
     },
     "execution_count": 49,
     "metadata": {},
     "output_type": "execute_result"
    }
   ],
   "source": [
    "len(same)"
   ]
  },
  {
   "cell_type": "code",
   "execution_count": 9,
   "metadata": {},
   "outputs": [],
   "source": [
    "def vis(ts_code,kvalue,types):##可视化，这个不重要\n",
    "        ydm=datetime.datetime.now().strftime('%Y%m%d')\n",
    "        if types=='day':\n",
    "            start_date=(datetime.datetime.now()-datetime.timedelta(days=int(kvalue))).strftime(\"%Y%m%d\")\n",
    "        if types=='month':\n",
    "            start_date=(datetime.datetime.now()-relativedelta(months=int(kvalue))).strftime(\"%Y%m%d\")\n",
    "        if types=='year':\n",
    "            start_date=(datetime.datetime.now()-relativedelta(years=int(kvalue))).strftime(\"%Y%m%d\")\n",
    "        \n",
    "        df = pro.daily(ts_code=ts_code, start_date=start_date, end_date=ydm, fields='ts_code,trade_date,close,change')\n",
    "        l1=[]\n",
    "        for i in df['close']:\n",
    "            l1.append(i)\n",
    "        l1=l1[::-1]\n",
    "        ltime=[]\n",
    "        for i in df['trade_date']:\n",
    "            ltime.append(i)\n",
    "        ltime=ltime[::-1]\n",
    "        plt.plot(ltime,l1)\n",
    "        plt.show()"
   ]
  }
 ],
 "metadata": {
  "kernelspec": {
   "display_name": "Python 3",
   "language": "python",
   "name": "python3"
  },
  "language_info": {
   "codemirror_mode": {
    "name": "ipython",
    "version": 3
   },
   "file_extension": ".py",
   "mimetype": "text/x-python",
   "name": "python",
   "nbconvert_exporter": "python",
   "pygments_lexer": "ipython3",
   "version": "3.7.0"
  }
 },
 "nbformat": 4,
 "nbformat_minor": 2
}
