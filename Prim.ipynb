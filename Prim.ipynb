{
 "cells": [
  {
   "cell_type": "code",
   "execution_count": 1,
   "metadata": {},
   "outputs": [],
   "source": [
    "import csv\n",
    "import math\n",
    "import matplotlib.pyplot as plt\n",
    "import numpy as np\n",
    "import pandas as pd\n",
    "\n",
    "%matplotlib inline"
   ]
  },
  {
   "cell_type": "code",
   "execution_count": 2,
   "metadata": {},
   "outputs": [
    {
     "data": {
      "text/html": [
       "<div>\n",
       "<style scoped>\n",
       "    .dataframe tbody tr th:only-of-type {\n",
       "        vertical-align: middle;\n",
       "    }\n",
       "\n",
       "    .dataframe tbody tr th {\n",
       "        vertical-align: top;\n",
       "    }\n",
       "\n",
       "    .dataframe thead th {\n",
       "        text-align: right;\n",
       "    }\n",
       "</style>\n",
       "<table border=\"1\" class=\"dataframe\">\n",
       "  <thead>\n",
       "    <tr style=\"text-align: right;\">\n",
       "      <th></th>\n",
       "      <th>MMM</th>\n",
       "      <th>ABT</th>\n",
       "      <th>ABBV</th>\n",
       "      <th>ACN</th>\n",
       "      <th>ATVI</th>\n",
       "      <th>AYI</th>\n",
       "      <th>ADBE</th>\n",
       "      <th>AAP</th>\n",
       "      <th>AES</th>\n",
       "      <th>AET</th>\n",
       "      <th>...</th>\n",
       "      <th>XEL</th>\n",
       "      <th>XRX</th>\n",
       "      <th>XLNX</th>\n",
       "      <th>XL</th>\n",
       "      <th>XYL</th>\n",
       "      <th>YHOO</th>\n",
       "      <th>YUM</th>\n",
       "      <th>ZBH</th>\n",
       "      <th>ZION</th>\n",
       "      <th>ZTS</th>\n",
       "    </tr>\n",
       "    <tr>\n",
       "      <th>Date</th>\n",
       "      <th></th>\n",
       "      <th></th>\n",
       "      <th></th>\n",
       "      <th></th>\n",
       "      <th></th>\n",
       "      <th></th>\n",
       "      <th></th>\n",
       "      <th></th>\n",
       "      <th></th>\n",
       "      <th></th>\n",
       "      <th></th>\n",
       "      <th></th>\n",
       "      <th></th>\n",
       "      <th></th>\n",
       "      <th></th>\n",
       "      <th></th>\n",
       "      <th></th>\n",
       "      <th></th>\n",
       "      <th></th>\n",
       "      <th></th>\n",
       "      <th></th>\n",
       "    </tr>\n",
       "  </thead>\n",
       "  <tbody>\n",
       "    <tr>\n",
       "      <td>2015-01-02</td>\n",
       "      <td>156.678596</td>\n",
       "      <td>43.160459</td>\n",
       "      <td>61.986410</td>\n",
       "      <td>86.129228</td>\n",
       "      <td>19.765196</td>\n",
       "      <td>139.234407</td>\n",
       "      <td>72.339996</td>\n",
       "      <td>158.132353</td>\n",
       "      <td>12.860543</td>\n",
       "      <td>87.354435</td>\n",
       "      <td>...</td>\n",
       "      <td>33.927597</td>\n",
       "      <td>13.191375</td>\n",
       "      <td>41.513829</td>\n",
       "      <td>32.998169</td>\n",
       "      <td>37.072501</td>\n",
       "      <td>50.169998</td>\n",
       "      <td>69.542301</td>\n",
       "      <td>110.963875</td>\n",
       "      <td>27.853656</td>\n",
       "      <td>42.723658</td>\n",
       "    </tr>\n",
       "    <tr>\n",
       "      <td>2015-01-05</td>\n",
       "      <td>153.145069</td>\n",
       "      <td>43.170070</td>\n",
       "      <td>60.819874</td>\n",
       "      <td>84.674997</td>\n",
       "      <td>19.490271</td>\n",
       "      <td>135.889914</td>\n",
       "      <td>71.980003</td>\n",
       "      <td>156.047994</td>\n",
       "      <td>12.494440</td>\n",
       "      <td>86.173965</td>\n",
       "      <td>...</td>\n",
       "      <td>33.542483</td>\n",
       "      <td>12.903563</td>\n",
       "      <td>40.752108</td>\n",
       "      <td>33.199318</td>\n",
       "      <td>34.765202</td>\n",
       "      <td>49.130001</td>\n",
       "      <td>68.129346</td>\n",
       "      <td>115.103219</td>\n",
       "      <td>26.810004</td>\n",
       "      <td>42.467175</td>\n",
       "    </tr>\n",
       "    <tr>\n",
       "      <td>2015-01-06</td>\n",
       "      <td>151.511999</td>\n",
       "      <td>42.679830</td>\n",
       "      <td>60.518833</td>\n",
       "      <td>84.064223</td>\n",
       "      <td>19.126976</td>\n",
       "      <td>134.187800</td>\n",
       "      <td>70.529999</td>\n",
       "      <td>155.938290</td>\n",
       "      <td>12.212822</td>\n",
       "      <td>86.301853</td>\n",
       "      <td>...</td>\n",
       "      <td>33.720953</td>\n",
       "      <td>12.730876</td>\n",
       "      <td>40.161775</td>\n",
       "      <td>33.362155</td>\n",
       "      <td>34.560759</td>\n",
       "      <td>49.209999</td>\n",
       "      <td>67.293113</td>\n",
       "      <td>114.127520</td>\n",
       "      <td>25.786046</td>\n",
       "      <td>42.052863</td>\n",
       "    </tr>\n",
       "    <tr>\n",
       "      <td>2015-01-07</td>\n",
       "      <td>152.610267</td>\n",
       "      <td>43.025880</td>\n",
       "      <td>62.964797</td>\n",
       "      <td>85.828689</td>\n",
       "      <td>18.714587</td>\n",
       "      <td>136.566769</td>\n",
       "      <td>71.110001</td>\n",
       "      <td>159.289228</td>\n",
       "      <td>12.231597</td>\n",
       "      <td>88.033197</td>\n",
       "      <td>...</td>\n",
       "      <td>34.012134</td>\n",
       "      <td>12.893969</td>\n",
       "      <td>40.180818</td>\n",
       "      <td>33.381309</td>\n",
       "      <td>34.833350</td>\n",
       "      <td>48.590000</td>\n",
       "      <td>69.523080</td>\n",
       "      <td>116.965922</td>\n",
       "      <td>26.032190</td>\n",
       "      <td>42.920947</td>\n",
       "    </tr>\n",
       "    <tr>\n",
       "      <td>2015-01-08</td>\n",
       "      <td>156.267949</td>\n",
       "      <td>43.910238</td>\n",
       "      <td>63.623323</td>\n",
       "      <td>87.137495</td>\n",
       "      <td>18.901144</td>\n",
       "      <td>141.344618</td>\n",
       "      <td>72.919998</td>\n",
       "      <td>160.685446</td>\n",
       "      <td>12.419342</td>\n",
       "      <td>90.885990</td>\n",
       "      <td>...</td>\n",
       "      <td>34.406643</td>\n",
       "      <td>13.248937</td>\n",
       "      <td>41.075840</td>\n",
       "      <td>33.927287</td>\n",
       "      <td>35.096207</td>\n",
       "      <td>50.230000</td>\n",
       "      <td>70.734178</td>\n",
       "      <td>118.207726</td>\n",
       "      <td>26.396482</td>\n",
       "      <td>43.581878</td>\n",
       "    </tr>\n",
       "  </tbody>\n",
       "</table>\n",
       "<p>5 rows × 496 columns</p>\n",
       "</div>"
      ],
      "text/plain": [
       "                   MMM        ABT       ABBV        ACN       ATVI  \\\n",
       "Date                                                                 \n",
       "2015-01-02  156.678596  43.160459  61.986410  86.129228  19.765196   \n",
       "2015-01-05  153.145069  43.170070  60.819874  84.674997  19.490271   \n",
       "2015-01-06  151.511999  42.679830  60.518833  84.064223  19.126976   \n",
       "2015-01-07  152.610267  43.025880  62.964797  85.828689  18.714587   \n",
       "2015-01-08  156.267949  43.910238  63.623323  87.137495  18.901144   \n",
       "\n",
       "                   AYI       ADBE         AAP        AES        AET  ...  \\\n",
       "Date                                                                 ...   \n",
       "2015-01-02  139.234407  72.339996  158.132353  12.860543  87.354435  ...   \n",
       "2015-01-05  135.889914  71.980003  156.047994  12.494440  86.173965  ...   \n",
       "2015-01-06  134.187800  70.529999  155.938290  12.212822  86.301853  ...   \n",
       "2015-01-07  136.566769  71.110001  159.289228  12.231597  88.033197  ...   \n",
       "2015-01-08  141.344618  72.919998  160.685446  12.419342  90.885990  ...   \n",
       "\n",
       "                  XEL        XRX       XLNX         XL        XYL       YHOO  \\\n",
       "Date                                                                           \n",
       "2015-01-02  33.927597  13.191375  41.513829  32.998169  37.072501  50.169998   \n",
       "2015-01-05  33.542483  12.903563  40.752108  33.199318  34.765202  49.130001   \n",
       "2015-01-06  33.720953  12.730876  40.161775  33.362155  34.560759  49.209999   \n",
       "2015-01-07  34.012134  12.893969  40.180818  33.381309  34.833350  48.590000   \n",
       "2015-01-08  34.406643  13.248937  41.075840  33.927287  35.096207  50.230000   \n",
       "\n",
       "                  YUM         ZBH       ZION        ZTS  \n",
       "Date                                                     \n",
       "2015-01-02  69.542301  110.963875  27.853656  42.723658  \n",
       "2015-01-05  68.129346  115.103219  26.810004  42.467175  \n",
       "2015-01-06  67.293113  114.127520  25.786046  42.052863  \n",
       "2015-01-07  69.523080  116.965922  26.032190  42.920947  \n",
       "2015-01-08  70.734178  118.207726  26.396482  43.581878  \n",
       "\n",
       "[5 rows x 496 columns]"
      ]
     },
     "execution_count": 2,
     "metadata": {},
     "output_type": "execute_result"
    }
   ],
   "source": [
    "priceData = pd.read_csv('SP_500_close_2015.csv',index_col = 0)\n",
    "priceData.head()"
   ]
  },
  {
   "cell_type": "code",
   "execution_count": 3,
   "metadata": {},
   "outputs": [
    {
     "data": {
      "text/html": [
       "<div>\n",
       "<style scoped>\n",
       "    .dataframe tbody tr th:only-of-type {\n",
       "        vertical-align: middle;\n",
       "    }\n",
       "\n",
       "    .dataframe tbody tr th {\n",
       "        vertical-align: top;\n",
       "    }\n",
       "\n",
       "    .dataframe thead th {\n",
       "        text-align: right;\n",
       "    }\n",
       "</style>\n",
       "<table border=\"1\" class=\"dataframe\">\n",
       "  <thead>\n",
       "    <tr style=\"text-align: right;\">\n",
       "      <th></th>\n",
       "      <th>Symbol</th>\n",
       "      <th>Name</th>\n",
       "      <th>Sector</th>\n",
       "    </tr>\n",
       "  </thead>\n",
       "  <tbody>\n",
       "    <tr>\n",
       "      <td>0</td>\n",
       "      <td>MMM</td>\n",
       "      <td>3M Company</td>\n",
       "      <td>Industrials</td>\n",
       "    </tr>\n",
       "    <tr>\n",
       "      <td>1</td>\n",
       "      <td>ABT</td>\n",
       "      <td>Abbott Laboratories</td>\n",
       "      <td>Health Care</td>\n",
       "    </tr>\n",
       "    <tr>\n",
       "      <td>2</td>\n",
       "      <td>ABBV</td>\n",
       "      <td>AbbVie</td>\n",
       "      <td>Health Care</td>\n",
       "    </tr>\n",
       "    <tr>\n",
       "      <td>3</td>\n",
       "      <td>ACN</td>\n",
       "      <td>Accenture plc</td>\n",
       "      <td>Information Technology</td>\n",
       "    </tr>\n",
       "    <tr>\n",
       "      <td>4</td>\n",
       "      <td>ATVI</td>\n",
       "      <td>Activision Blizzard</td>\n",
       "      <td>Information Technology</td>\n",
       "    </tr>\n",
       "  </tbody>\n",
       "</table>\n",
       "</div>"
      ],
      "text/plain": [
       "  Symbol                 Name                  Sector\n",
       "0    MMM           3M Company             Industrials\n",
       "1    ABT  Abbott Laboratories             Health Care\n",
       "2   ABBV               AbbVie             Health Care\n",
       "3    ACN        Accenture plc  Information Technology\n",
       "4   ATVI  Activision Blizzard  Information Technology"
      ]
     },
     "execution_count": 3,
     "metadata": {},
     "output_type": "execute_result"
    }
   ],
   "source": [
    "firms = pd.read_csv(\"SP_500_firms.csv\")\n",
    "firms.head()"
   ]
  },
  {
   "cell_type": "code",
   "execution_count": 4,
   "metadata": {},
   "outputs": [],
   "source": [
    "percent_change = priceData.pct_change()\n",
    "percent_change = percent_change.drop(percent_change.index[0])\n",
    "percent_change.head()\n",
    "\n",
    "#Or equivalently without using Pandas' built-in \n",
    "#percent change function.\n",
    "percent_changeD = {}\n",
    "for i in percent_change:\n",
    "    percent_changeD[i] = []\n",
    "    for j in range(1,(len(priceData))):\n",
    "        ret = (priceData[i][j]-priceData[i][j-1])/priceData[i][j-1]\n",
    "        percent_changeD[i].append(ret)\n",
    "        \n",
    "percent_change2 = pd.DataFrame(data = percent_changeD,index=priceData.index[1:])"
   ]
  },
  {
   "cell_type": "code",
   "execution_count": 5,
   "metadata": {},
   "outputs": [
    {
     "name": "stdout",
     "output_type": "stream",
     "text": [
      "Freeport-McMoran Cp & Gld 2015-08-27 0.286616201466348\n"
     ]
    }
   ],
   "source": [
    "def fullname(ts):\n",
    "    return firms[firms.Symbol == ts].Name.values[0]\n",
    "\n",
    "currMax = 0\n",
    "for i in percent_change2:\n",
    "    for j in percent_change2.index:\n",
    "        if percent_change2[i][j] > currMax:\n",
    "            currMax = percent_change2[i][j]\n",
    "            bestCo = i\n",
    "            bestDate = j\n",
    "            \n",
    "print (fullname(bestCo), bestDate, currMax)"
   ]
  },
  {
   "cell_type": "code",
   "execution_count": 6,
   "metadata": {},
   "outputs": [
    {
     "name": "stdout",
     "output_type": "stream",
     "text": [
      "Quanta Services Inc. 2015-10-16 -0.2850056957270392\n"
     ]
    }
   ],
   "source": [
    "currMin = 1\n",
    "for i in percent_change2:\n",
    "    for j in percent_change2.index:\n",
    "        if percent_change2[i][j] < currMin:\n",
    "            currMin = percent_change2[i][j]\n",
    "            worstCo = i\n",
    "            worstDate = j\n",
    "\n",
    "print (fullname(worstCo), worstDate, currMin)"
   ]
  },
  {
   "cell_type": "code",
   "execution_count": 7,
   "metadata": {},
   "outputs": [
    {
     "name": "stdout",
     "output_type": "stream",
     "text": [
      "1.2945491196819041 NFLX Netflix Inc.\n"
     ]
    }
   ],
   "source": [
    "AnnualReturn = {}\n",
    "yearMax = -math.inf\n",
    "for i in percent_change2:\n",
    "    AnnualReturn[i] = (priceData[i][-1]-priceData[i][0])/priceData[i][0]\n",
    "    if AnnualReturn[i] > yearMax:\n",
    "        yearMax = AnnualReturn[i]\n",
    "        maxCo = i\n",
    "\n",
    "print (yearMax, maxCo, fullname(maxCo))"
   ]
  },
  {
   "cell_type": "code",
   "execution_count": 8,
   "metadata": {},
   "outputs": [
    {
     "name": "stdout",
     "output_type": "stream",
     "text": [
      "-0.7697847497642084 CHK Chesapeake Energy\n"
     ]
    }
   ],
   "source": [
    "AnnualReturn = {}\n",
    "yearMin = math.inf\n",
    "for i in percent_change2:\n",
    "    AnnualReturn[i] = (priceData[i][-1]-priceData[i][0])/priceData[i][0]\n",
    "    if AnnualReturn[i] < yearMin:\n",
    "        yearMin = AnnualReturn[i]\n",
    "        minCo = i\n",
    "\n",
    "print (yearMin, minCo, fullname(minCo))\n"
   ]
  },
  {
   "cell_type": "code",
   "execution_count": 9,
   "metadata": {},
   "outputs": [],
   "source": [
    "def mean(x):\n",
    "    return float(sum(x)) / len(x)\n",
    "\n",
    "def std(x):\n",
    "    stdev = 0.0\n",
    "    for value in x:\n",
    "        difference = value - mean(x)\n",
    "        stdev = stdev + (difference ** 2)\n",
    "    stdev = (stdev / len(x))**(1/2)\n",
    "    return stdev"
   ]
  },
  {
   "cell_type": "code",
   "execution_count": 10,
   "metadata": {},
   "outputs": [
    {
     "name": "stdout",
     "output_type": "stream",
     "text": [
      "0.04398338070543049 FCX Freeport-McMoran Cp & Gld\n"
     ]
    }
   ],
   "source": [
    "Volatility = {}\n",
    "volMax = -math.inf\n",
    "\n",
    "for i in percent_change2:\n",
    "    Volatility[i] = std(percent_change2[i])\n",
    "    if Volatility[i] > volMax:\n",
    "        volMax = Volatility[i]\n",
    "        volMaxC = i\n",
    "        \n",
    "print (volMax, volMaxC, fullname(volMaxC))"
   ]
  },
  {
   "cell_type": "code",
   "execution_count": 11,
   "metadata": {},
   "outputs": [
    {
     "name": "stdout",
     "output_type": "stream",
     "text": [
      "0.009044853669708705 KO The Coca Cola Company\n"
     ]
    }
   ],
   "source": [
    "Volatility = {}\n",
    "volMin = math.inf\n",
    "\n",
    "for i in percent_change2:\n",
    "    Volatility[i] = std(percent_change2[i])\n",
    "    if Volatility[i] < volMin:\n",
    "        volMin = Volatility[i]\n",
    "        volMinC = i\n",
    "\n",
    "print (volMin, volMinC, fullname(volMinC))"
   ]
  },
  {
   "cell_type": "code",
   "execution_count": 56,
   "metadata": {},
   "outputs": [
    {
     "name": "stdout",
     "output_type": "stream",
     "text": [
      "The correlation coefficient between Apple Inc. and 3M Company is 0.5157280000348696.\n"
     ]
    }
   ],
   "source": [
    "def corr(x,y):\n",
    "    xy = sum([a*b for a,b in zip(x,y)])\n",
    "    x2 = sum([i**2 for i in x])\n",
    "    y2 = sum([i**2 for i in y])\n",
    "    n = len(x)\n",
    "    numer = (n*xy - sum(x)*sum(y))\n",
    "    denom = ((n*x2 - sum(x)**2)**(1/2) * (n*y2 - sum(y)**2)**(1/2))\n",
    "    correlation = numer/denom\n",
    "    return correlation\n",
    "\n",
    "correlations = {}\n",
    "\n",
    "for i in percent_change:\n",
    "    correlations[i] = {}\n",
    "\n",
    "for i in correlations:    \n",
    "    for j in percent_change:\n",
    "        correlations[i][j]=[]\n",
    "    \n",
    "for company1 in percent_change:\n",
    "    for company2 in percent_change:\n",
    "        if not correlations[company1][company2]:\n",
    "            x=percent_change[company1]        \n",
    "            y=percent_change[company2]\n",
    "            if company1 == company2:\n",
    "                correlations[company1][company2] = 1\n",
    "                correlations[company2][company1] = 1\n",
    "            else:\n",
    "                correlations[company1][company2] = corr(x,y)\n",
    "                correlations[company2][company1] = corr(x,y)\n",
    "                \n",
    "def corr_print(company1, company2):\n",
    "    print (\"The correlation coefficient between {} and {} is {}.\"\n",
    "           .format(fullname(company1), fullname(company2), correlations[company1][company2]))\n",
    "\n",
    "corr_print(\"AAPL\", \"MMM\")"
   ]
  },
  {
   "cell_type": "code",
   "execution_count": 57,
   "metadata": {},
   "outputs": [],
   "source": [
    "ticker_symbols = list(priceData.columns.values)\n",
    "\n",
    "def top_bottomcorr(ts):\n",
    "    corr_tb = []\n",
    "    for ss in ticker_symbols:\n",
    "        if ss == ts:\n",
    "            continue\n",
    "        corr_co = correlations[ts][ss]\n",
    "        corr_tb.append((corr_co, ss))\n",
    "    corr_tb.sort()    \n",
    "    print (\"Most Correlated:\", fullname(corr_tb[-1][1]), \"(\", corr_tb[-1][0],\")\")\n",
    "    print (\"Least Correlated:\", fullname(corr_tb[0][1]), \"(\", corr_tb[0][0],\")\")"
   ]
  },
  {
   "cell_type": "code",
   "execution_count": 59,
   "metadata": {},
   "outputs": [
    {
     "name": "stdout",
     "output_type": "stream",
     "text": [
      "Most Correlated: Alphabet Inc Class A ( 0.9893650403946361 )\n",
      "Least Correlated: Stericycle Inc ( 0.01714894347853482 )\n"
     ]
    }
   ],
   "source": [
    "top_bottomcorr(\"GOOG\")"
   ]
  },
  {
   "cell_type": "code",
   "execution_count": 28,
   "metadata": {},
   "outputs": [],
   "source": [
    "correlations = percent_change.corr()\n",
    "\n",
    "correlations = correlations.where(np.triu(np.ones(correlations.shape)).astype(np.bool))\n",
    "correlations = correlations.stack().reset_index()\n",
    "correlations.columns = ['Company1', 'Company2', 'Correlation']\n",
    "\n",
    "correlation_tuples = [tuple(x) for x in correlations.values]"
   ]
  },
  {
   "cell_type": "code",
   "execution_count": 29,
   "metadata": {},
   "outputs": [],
   "source": [
    "def mergeSort(array):\n",
    "    if len(array) > 1:\n",
    "        mid = len(array) //2\n",
    "        left = array[:mid]\n",
    "        right = array [mid:]\n",
    "        mergeSort(left)\n",
    "        mergeSort(right)\n",
    "\n",
    "        i = 0\n",
    "        j = 0\n",
    "        k = 0\n",
    "        while i < len(left) and j < len(right):\n",
    "            if left[i][2] > right[j][2]:\n",
    "                array[k] = left[i]\n",
    "                i = i + 1\n",
    "            else:\n",
    "                array[k] = right[j]\n",
    "                j = j + 1\n",
    "            k = k+1\n",
    "        while i < len(left):\n",
    "            array[k] = left[i]\n",
    "            i += 1\n",
    "            k += 1\n",
    "        while j < len(right):\n",
    "            array[k] = right[j]\n",
    "            j += 1\n",
    "            k += 1\n",
    "    return(array)\n",
    "\n",
    "sortedWeights = mergeSort(correlation_tuples)"
   ]
  },
  {
   "cell_type": "code",
   "execution_count": 30,
   "metadata": {},
   "outputs": [],
   "source": [
    "class Digraph():\n",
    "    def __init__(self,filename = None):\n",
    "        self.edges = {}\n",
    "        self.numEdges = 0\n",
    "    \n",
    "    def addNode(self,node):       \n",
    "        self.edges[node] = set()\n",
    "\n",
    "    def add_Edge(self,src,dest,weight):\n",
    "        if not self.hasNode(src): \n",
    "            self.addNode(src)\n",
    "            self.edges[src] = {}\n",
    "        if not self.hasNode(dest): \n",
    "            self.addNode(dest)\n",
    "            self.edges[dest] = {}\n",
    "        if not self.hasEdge(src, dest):\n",
    "            self.numEdges += 1\n",
    "            self.edges[src][dest] = weight\n",
    "  \n",
    "    def childrenOf(self, v):\n",
    "        # Returns a node's children\n",
    "        return self.edges[v].items()\n",
    "        \n",
    "    def hasNode(self, v):\n",
    "        return v in self.edges\n",
    "        \n",
    "    def hasEdge(self, v, w):\n",
    "        return w in self.edges[v]\n",
    "\n",
    "    def listEdges(self):\n",
    "        ll = []\n",
    "        for src,values in self.edges.items():\n",
    "            for dest,weight in values.items():\n",
    "                ll.append([src,dest,weight])\n",
    "        return ll\n",
    "    \n",
    "    def __str__(self):\n",
    "        result = ''\n",
    "        for src in self.edges:\n",
    "            for dest,weight in self.edges[src].items():\n",
    "                result = result + src + '->'\\\n",
    "                         + dest + ', length ' + str(weight) + '\\n'\n",
    "        return result[:-1]\n",
    "\n",
    "class Graph(Digraph):\n",
    "    def addEdge(self, src, dest, weight):\n",
    "        Digraph.addEdge(self, src, dest, weight)\n",
    "        Digraph.addEdge(self, dest, src, weight)"
   ]
  },
  {
   "cell_type": "code",
   "execution_count": 32,
   "metadata": {},
   "outputs": [],
   "source": [
    "def init_graph(sortedWeights):\n",
    "    graph = Graph()\n",
    "    for x in sortedWeights:\n",
    "         graph.add_Edge(x[0],x[1],weight = x[2])\n",
    "    return graph\n",
    "\n",
    "def init_nodePointers(graph):\n",
    "    nodePointers = {src:src for src in graph.edges}\n",
    "    return nodePointers\n",
    "\n",
    "def init_nodeStarting(graph):\n",
    "    nodeStarting = {src:True for src in graph.edges}\n",
    "    return nodeStarting\n",
    "\n",
    "def init_nodeBottom(graph):\n",
    "    nodeBottom = {src:True for src in graph.edges}\n",
    "    return nodeBottom\n",
    "\n",
    "def findbottom(node, nodePointers):\n",
    "    source = node\n",
    "    destination = nodePointers[source]\n",
    "    while destination != source:\n",
    "        source = destination\n",
    "        destination = nodePointers[source]\n",
    "    return destination\n",
    "\n",
    "def mergeSets(sortedWeights, k):\n",
    "    sortedWeights = [value for value in sortedWeights\n",
    "                     if value[0] != value[1]]\n",
    "    graph = init_graph(sortedWeights)\n",
    "    nodePointers = init_nodePointers(graph)\n",
    "    nodeStarting = init_nodeStarting(graph)\n",
    "    nodeBottom = init_nodeBottom(graph)\n",
    "    counter = 0\n",
    "    for key in sortedWeights:\n",
    "        if counter < k:\n",
    "            bottom1 = findbottom(key[0], nodePointers)\n",
    "            bottom2 = findbottom(key[1], nodePointers)\n",
    "            if bottom1 != bottom2:\n",
    "                nodePointers[bottom2] = bottom1\n",
    "                nodeBottom[bottom2] = False\n",
    "                nodeStarting[bottom1] = False\n",
    "                \n",
    "            counter += 1\n",
    "    return (nodePointers, nodeStarting, nodeBottom)\n",
    "\n",
    "def recoverSets(nodePointers, nodeStarting, nodeBottom):\n",
    "    dict = {}\n",
    "    for b_key, b_value in nodeBottom.items():\n",
    "        if b_value:\n",
    "            dict.setdefault(b_key, set())\n",
    "            for s_key, s_value in nodeStarting.items():\n",
    "                if s_value and findbottom(s_key, nodePointers)== b_key:\n",
    "                    bottom = findbottom(s_key, nodePointers)\n",
    "                    current_node = s_key\n",
    "                    while current_node != bottom:\n",
    "                        dict[b_key].add(current_node)\n",
    "                        current_node = nodePointers[current_node]\n",
    "            dict[b_key].add(b_key)\n",
    "    return list(dict.values())"
   ]
  },
  {
   "cell_type": "code",
   "execution_count": 37,
   "metadata": {},
   "outputs": [
    {
     "name": "stdout",
     "output_type": "stream",
     "text": [
      "[{'ALL', 'CXO', 'GS', 'RIG', 'URI', 'PX', 'FOX', 'SEE', 'DGX', 'WFC', 'MA', 'FLS', 'HOLX', 'YUM', 'LEG', 'PXD', 'XEL', 'VRSK', 'ADM', 'CNP', 'SNA', 'HBAN', 'YHOO', 'PBCT', 'CVS', 'AVB', 'EIX', 'RTN', 'NLSN', 'ADP', 'NAVI', 'HRS', 'NBL', 'IFF', 'PRGO', 'EA', 'EMR', 'UNM', 'ADSK', 'MSI', 'SRCL', 'PKI', 'UNP', 'ORLY', 'FSLR', 'LVLT', 'CAT', 'GILD', 'BAX', 'SYF', 'ANTM', 'DVN', 'XEC', 'UDR', 'CTSH', 'AMT', 'WHR', 'TAP', 'CLX', 'CA', 'PEG', 'DAL', 'SPLS', 'F', 'ESS', 'DTE', 'AVY', 'ALLE', 'MCK', 'PM', 'PNR', 'LYB', 'CB', 'R', 'ZTS', 'ATVI', 'TSN', 'PFE', 'COP', 'CAH', 'MOS', 'NKE', 'HRB', 'HRL', 'CRM', 'NEM', 'APH', 'MO', 'EMC', 'DD', 'CMI', 'PGR', 'ACN', 'FBHS', 'TMO', 'NRG', 'VNO', 'BBT', 'HAS', 'JCI', 'HOT', 'FTI', 'SWK', 'BIIB', 'GPN', 'EXC', 'SYK', 'AET', 'HSY', 'VIAB', 'REGN', 'HCP', 'BDX', 'PFG', 'C', 'IPG', 'STT', 'SJM', 'LNC', 'PRU', 'AMGN', 'MJN', 'KMI', 'LOW', 'ZION', 'ENDP', 'UTX', 'NTRS', 'V', 'VRSN', 'NI', 'KSU', 'VZ', 'MAR', 'HP', 'JNPR', 'KLAC', 'LUK', 'FRT', 'ES', 'HUM', 'TWX', 'BSX', 'PEP', 'EXR', 'WDC', 'CBS', 'PSA', 'RAI', 'AN', 'HCN', 'BK', 'ICE', 'CERN', 'ABC', 'MAT', 'ALB', 'ABT', 'DPS', 'XYL', 'ETR', 'AEP', 'GWW', 'AGN', 'GOOG', 'GM', 'CTXS', 'EW', 'RL', 'RF', 'GPC', 'WYNN', 'PNW', 'AXP', 'JEC', 'BLK', 'ROK', 'ORCL', 'BWA', 'AMZN', 'GE', 'MET', 'MDT', 'MHK', 'DNB', 'FIS', 'FTR', 'NWS', 'COL', 'EBAY', 'AIV', 'WBA', 'JBHT', 'AMP', 'ADI', 'BHI', 'SE', 'WAT', 'LKQ', 'WMT', 'CCL', 'DOV', 'ESRX', 'CBG', 'XLNX', 'HAR', 'KMX', 'SPGI', 'MDLZ', 'PCG', 'HSIC', 'UAL', 'EQR', 'WM', 'XL', 'DIS', 'GT', 'RCL', 'FMC', 'CI', 'ETN', 'KEY', 'BRK-B', 'EL', 'IP', 'D', 'HIG', 'ABBV', 'CSX', 'NOV', 'DISCA', 'FCX', 'AAL', 'AYI', 'ROP', 'MTB', 'EMN', 'CSCO', 'COF', 'VMC', 'CHRW', 'EQT', 'TSS', 'BMY', 'KSS', 'LRCX', 'HCA', 'EXPD', 'TSCO', 'DHI', 'BA', 'AJG', 'MSFT', 'DVA', 'APC', 'IR', 'CTL', 'CFG', 'TYC', 'SWN', 'AMG', 'CMG', 'KO', 'SCG', 'SBUX', 'AKAM', 'MAC', 'JNJ', 'BCR', 'BXP', 'SHW', 'T', 'VLO', 'TSO', 'HST', 'PDCO', 'CHK', 'MLM', 'TIF', 'LLL', 'BLL', 'EXPE', 'APA', 'CNC', 'RRC', 'SNI', 'AZO', 'PCLN', 'QRVO', 'SRE', 'TRIP', 'HOG', 'MCD', 'XRAY', 'FOXA', 'NUE', 'VTR', 'MRO', 'LUV', 'AAPL', 'UPS', 'ED', 'FB', 'CINF', 'DE', 'CL', 'PSX', 'AFL', 'CVX', 'VRTX', 'LLY', 'JPM', 'DO', 'APD', 'ETFC', 'UNH', 'IRM', 'CTAS', 'AEE', 'PLD', 'UHS', 'INTC', 'SLG', 'WY', 'CMS', 'SPG', 'MMC', 'EFX', 'DUK', 'COH', 'RHI', 'TGNA', 'DLPH', 'VAR', 'TXT', 'AWK', 'CELG', 'MYL', 'GOOGL', 'ALXN', 'MS', 'FFIV', 'GRMN', 'WU', 'FE', 'MON', 'LB', 'IVZ', 'FL', 'SWKS', 'TDG', 'OMC', 'NWL', 'RHT', 'HPQ', 'O', 'HES', 'KORS', 'NFX', 'LMT', 'HD', 'GLW', 'CMA', 'NDAQ', 'AIG', 'CCI', 'RSG', 'NFLX', 'PH', 'ULTA', 'AES', 'MRK', 'SLB', 'FLR', 'STZ', 'FISV', 'DLR', 'BBBY', 'ISRG', 'HAL', 'PHM', 'AMAT', 'FITB', 'LM', 'BAC', 'DHR', 'CPB', 'HON', 'MKC', 'AON', 'WFM', 'DFS', 'BF-B', 'KR', 'OKE', 'SYY', 'DLTR', 'WMB', 'PVH', 'NOC', 'MUR', 'CAG', 'BBY', 'AIZ', 'TMK', 'UA', 'GIS', 'PWR', 'ROST', 'NVDA', 'URBN', 'ADBE', 'PG', 'XOM', 'L', 'MNST', 'DRI', 'MU', 'TJX', 'JWN', 'SYMC', 'MPC', 'ALK', 'ZBH', 'DOW', 'STJ', 'ILMN', 'LH', 'AAP', 'BEN', 'TEL', 'AVGO', 'CMCSA', 'LEN', 'OI', 'PNC', 'K', 'INTU', 'M', 'COST', 'SCHW', 'NSC', 'PBI', 'SO', 'MAS', 'AA', 'TRV', 'LLTC', 'TGT', 'STX', 'MCO', 'STI', 'PCAR', 'TDC', 'VFC', 'FLIR', 'FAST', 'IBM', 'OXY', 'CF', 'SIG', 'MMM', 'PPG', 'EQIX', 'FDX', 'KMB', 'ITW', 'DISCK', 'CHD', 'LNT', 'USB', 'HBI', 'COG', 'PPL', 'GD', 'ADS', 'WYN', 'A', 'XRX', 'TROW', 'CME', 'WEC', 'GGP', 'MNK', 'QCOM', 'TXN', 'EOG', 'ECL', 'AME', 'GPS', 'NWSA', 'PAYX', 'MCHP', 'KIM', 'DG', 'NTAP'}]\n"
     ]
    }
   ],
   "source": [
    "nodePointers, nodeStarting, nodeBottom = mergeSets(sortedWeights, 100000)\n",
    "print(recoverSets(nodePointers, nodeStarting, nodeBottom))\n",
    "# print(\"For k = 100000, \" + str(len(cluster_100000)) + \" clusters are generated.\" + '\\n')"
   ]
  },
  {
   "cell_type": "code",
   "execution_count": 41,
   "metadata": {},
   "outputs": [
    {
     "name": "stdout",
     "output_type": "stream",
     "text": [
      "[{'GOOG', 'GOOGL'}, {'NWSA', 'NWS'}, {'DISCA', 'DISCK', 'SNI'}, {'PHM', 'DHI', 'LEN'}, {'CCL', 'RCL'}, {'ANTM', 'AET', 'UNH', 'CI', 'CNC'}, {'HCA', 'UHS'}, {'ROST', 'TJX'}, {'VLO', 'TSO', 'MPC', 'PSX'}, {'MO', 'PM', 'RAI'}, {'VMC', 'MLM'}, {'RSG', 'WM'}, {'DGX', 'LH'}, {'DAL', 'ALK', 'LUV', 'AAL', 'UAL'}, {'WYN', 'MAR', 'HOT'}, {'EXPD', 'CHRW'}, {'AMAT', 'LRCX'}, {'AVGO', 'SWKS'}, {'GWW', 'FAST'}, {'AZO', 'ORLY'}, {'FOXA', 'CMCSA', 'DIS', 'FOX', 'TWX'}, {'GM', 'F'}, {'NSC', 'CSX', 'UNP', 'KSU'}, {'WDC', 'STX'}, {'HCN', 'DUK', 'ED', 'AIV', 'ESS', 'AWK', 'LNT', 'D', 'DTE', 'PPL', 'ETR', 'VNO', 'DLR', 'AEP', 'FE', 'NI', 'AEE', 'PLD', 'XEL', 'PNW', 'SRE', 'WEC', 'SCG', 'CNP', 'GGP', 'SLG', 'UDR', 'AMT', 'FRT', 'PCG', 'ES', 'BXP', 'CMS', 'SO', 'O', 'EXC', 'EQR', 'AVB', 'EXR', 'EIX', 'SPG', 'VTR', 'PSA', 'HCP', 'KIM', 'CCI', 'PEG'}, {'LNC', 'CXO', 'PH', 'GS', 'PRU', 'APC', 'AMGN', 'RIG', 'MRK', 'PX', 'SLB', 'FLR', 'KMI', 'LOW', 'ZION', 'FISV', 'UTX', 'CFG', 'TYC', 'NTRS', 'WFC', 'V', 'MA', 'FLS', 'HAL', 'FITB', 'PXD', 'LM', 'SWN', 'BAC', 'DHR', 'CPB', 'AMG', 'HON', 'HP', 'VZ', 'MKC', 'AON', 'KO', 'SNA', 'SBUX', 'DFS', 'HBAN', 'PBCT', 'JNJ', 'BCR', 'SHW', 'OKE', 'PEP', 'T', 'RTN', 'ADP', 'NBL', 'IFF', 'EMR', 'UNM', 'BK', 'NOC', 'MUR', 'ICE', 'LLL', 'ABT', 'TMK', 'APA', 'GIS', 'DPS', 'PKI', 'RRC', 'XYL', 'PG', 'AJG', 'XOM', 'L', 'CAT', 'GPC', 'RF', 'DVN', 'JEC', 'XEC', 'BLK', 'ROK', 'BWA', 'CTSH', 'MET', 'MDT', 'DNB', 'MRO', 'UPS', 'CLX', 'DOW', 'CA', 'COL', 'CINF', 'CL', 'AFL', 'CVX', 'BEN', 'TEL', 'AMP', 'AVY', 'JPM', 'ADI', 'BHI', 'SE', 'DO', 'PNC', 'WAT', 'ETFC', 'K', 'INTU', 'CTAS', 'PNR', 'LYB', 'CB', 'SCHW', 'DOV', 'XLNX', 'INTC', 'SPGI', 'HSIC', 'TRV', 'LLTC', 'COP', 'XL', 'MCO', 'STI', 'PCAR', 'CAH', 'IBM', 'OXY', 'ETN', 'KEY', 'MMC', 'BRK-B', 'APH', 'MMM', 'PPG', 'DLPH', 'CMI', 'PGR', 'VAR', 'ACN', 'KMB', 'FDX', 'ITW', 'TXT', 'CHD', 'CELG', 'USB', 'HIG', 'TMO', 'COG', 'GD', 'MS', 'IPG', 'NOV', 'A', 'TROW', 'CME', 'ROP', 'BBT', 'MTB', 'EMN', 'JCI', 'COF', 'IVZ', 'FTI', 'SWK', 'EQT', 'OMC', 'TSS', 'TXN', 'SYK', 'HES', 'EOG', 'NFX', 'ECL', 'LMT', 'HD', 'AME', 'TSCO', 'CMA', 'PAYX', 'MCHP', 'BA', 'PFG', 'C', 'AIG', 'STT', 'NDAQ', 'REGN', 'BDX'}, {'AIZ'}, {'CSCO'}, {'EFX'}, {'XRAY'}, {'IR'}, {'DD'}, {'MCD'}, {'MDLZ'}, {'ADS'}, {'CBG'}, {'ORCL'}, {'SRCL'}, {'VFC'}, {'CVS'}, {'WBA'}, {'ALL'}, {'FBHS'}, {'MAS'}, {'DG'}, {'DLTR'}, {'WMB'}, {'NLSN'}, {'PFE'}, {'FIS'}, {'URI'}, {'NWL'}, {'AN'}, {'APD'}, {'AXP'}, {'ALXN'}, {'MCK'}, {'RHT'}, {'HST'}, {'WY'}, {'BF-B'}, {'HAR'}, {'ABC'}, {'GILD'}, {'RHI'}, {'CBS'}, {'ALLE'}, {'PVH'}, {'VRTX'}, {'QRVO'}, {'R'}, {'NKE'}, {'PDCO'}, {'XRX'}, {'ZBH'}, {'LUK'}, {'STZ'}, {'ESRX'}, {'ULTA'}, {'VIAB'}, {'IP'}, {'JBHT'}, {'CHK'}, {'EW'}, {'LVLT'}, {'FCX'}, {'NVDA'}, {'HRL'}, {'JWN'}, {'EL'}, {'DE'}, {'TGT'}, {'COST'}, {'VRSN'}, {'FMC'}, {'BLL'}, {'TGNA'}, {'MHK'}, {'GT'}, {'OI'}, {'SEE'}, {'WU'}, {'LEG'}, {'NUE'}, {'KLAC'}, {'BAX'}, {'FL'}, {'ADBE'}, {'FB'}, {'BMY'}, {'KR'}, {'IRM'}, {'AGN'}, {'AKAM'}, {'GE'}, {'UA'}, {'HSY'}, {'DVA'}, {'FLIR'}, {'PBI'}, {'MAC'}, {'STJ'}, {'ENDP'}, {'MNK'}, {'EBAY'}, {'KMX'}, {'GLW'}, {'M'}, {'MSFT'}, {'BBBY'}, {'LB'}, {'ADM'}, {'HRS'}, {'AAPL'}, {'GPN'}, {'CTXS'}, {'EMC'}, {'CTL'}, {'MOS'}, {'EQIX'}, {'GPS'}, {'LKQ'}, {'RL'}, {'AMZN'}, {'PWR'}, {'HUM'}, {'BSX'}, {'SYMC'}, {'EA'}, {'TIF'}, {'ALB'}, {'MON'}, {'ABBV'}, {'CAG'}, {'JNPR'}, {'LLY'}, {'CERN'}, {'MJN'}, {'ISRG'}, {'BIIB'}, {'KSS'}, {'WHR'}, {'SJM'}, {'HRB'}, {'WMT'}, {'VRSK'}, {'AA'}, {'AYI'}, {'ATVI'}, {'HOLX'}, {'PCLN'}, {'TDG'}, {'COH'}, {'SIG'}, {'MU'}, {'EXPE'}, {'TSN'}, {'MSI'}, {'CRM'}, {'FFIV'}, {'NRG'}, {'ZTS'}, {'CF'}, {'HOG'}, {'FTR'}, {'FSLR'}, {'SYY'}, {'ADSK'}, {'ILMN'}, {'AES'}, {'HBI'}, {'GRMN'}, {'QCOM'}, {'HPQ'}, {'DRI'}, {'AAP'}, {'YHOO'}, {'NTAP'}, {'SPLS'}, {'YUM'}, {'NAVI'}, {'BBY'}, {'MNST'}, {'MYL'}, {'NEM'}, {'WYNN'}, {'URBN'}, {'TDC'}, {'MAT'}, {'TRIP'}, {'NFLX'}, {'HAS'}, {'KORS'}, {'SYF'}, {'PRGO'}, {'TAP'}, {'CMG'}, {'WFM'}]\n",
      "For k = 2000, 218 clusters are generated.\n",
      "\n"
     ]
    }
   ],
   "source": [
    "nodePointers, nodeStarting, nodeBottom = mergeSets(sortedWeights, 2000)\n",
    "cluster_2000 = recoverSets(nodePointers, nodeStarting, nodeBottom)\n",
    "print(cluster_2000)\n",
    "print(\"For k = 2000, \" + str(len(cluster_2000)) + \" clusters are generated.\" + '\\n')"
   ]
  },
  {
   "cell_type": "code",
   "execution_count": 42,
   "metadata": {},
   "outputs": [
    {
     "data": {
      "text/plain": [
       "<matplotlib.axes._subplots.AxesSubplot at 0x1d9215b86c8>"
      ]
     },
     "execution_count": 42,
     "metadata": {},
     "output_type": "execute_result"
    },
    {
     "data": {
      "image/png": "[encoded data removed]",
      "text/plain": [
       "<Figure size 432x288 with 1 Axes>"
      ]
     },
     "metadata": {
      "needs_background": "light"
     },
     "output_type": "display_data"
    }
   ],
   "source": [
    "percent_change[['DAL', 'AAL', 'LUV', 'UAL', 'ALK']].plot()"
   ]
  },
  {
   "cell_type": "code",
   "execution_count": 48,
   "metadata": {},
   "outputs": [
    {
     "data": {
      "text/plain": [
       "<matplotlib.axes._subplots.AxesSubplot at 0x1d921d38748>"
      ]
     },
     "execution_count": 48,
     "metadata": {},
     "output_type": "execute_result"
    },
    {
     "data": {
      "image/png": "[encoded data removed]",
      "text/plain": [
       "<Figure size 432x288 with 1 Axes>"
      ]
     },
     "metadata": {
      "needs_background": "light"
     },
     "output_type": "display_data"
    }
   ],
   "source": [
    "pricesScaled = priceData.divide(priceData.iloc[0])\n",
    "pricesScaled[['MAR', 'HOT', 'WYN']].plot()"
   ]
  }
 ],
 "metadata": {
  "kernelspec": {
   "display_name": "Python 3",
   "language": "python",
   "name": "python3"
  },
  "language_info": {
   "codemirror_mode": {
    "name": "ipython",
    "version": 3
   },
   "file_extension": ".py",
   "mimetype": "text/x-python",
   "name": "python",
   "nbconvert_exporter": "python",
   "pygments_lexer": "ipython3",
   "version": "3.7.4"
  }
 },
 "nbformat": 4,
 "nbformat_minor": 2
}
